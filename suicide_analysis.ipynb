{
 "cells": [
  {
   "cell_type": "markdown",
   "metadata": {},
   "source": [
    "# Analysis of Suicide rate from 1985 to 2016"
   ]
  },
  {
   "cell_type": "code",
   "execution_count": null,
   "metadata": {},
   "outputs": [],
   "source": []
  },
  {
   "cell_type": "code",
   "execution_count": 1,
   "metadata": {},
   "outputs": [],
   "source": [
    "# import libraries\n",
    "\n",
    "import pandas as pd"
   ]
  },
  {
   "cell_type": "code",
   "execution_count": 2,
   "metadata": {},
   "outputs": [],
   "source": [
    "# loading dataset as dataframe\n",
    "df = pd.read_csv('suicide_analysis.csv')"
   ]
  },
  {
   "cell_type": "code",
   "execution_count": 3,
   "metadata": {},
   "outputs": [
    {
     "data": {
      "text/html": [
       "<div>\n",
       "<style scoped>\n",
       "    .dataframe tbody tr th:only-of-type {\n",
       "        vertical-align: middle;\n",
       "    }\n",
       "\n",
       "    .dataframe tbody tr th {\n",
       "        vertical-align: top;\n",
       "    }\n",
       "\n",
       "    .dataframe thead th {\n",
       "        text-align: right;\n",
       "    }\n",
       "</style>\n",
       "<table border=\"1\" class=\"dataframe\">\n",
       "  <thead>\n",
       "    <tr style=\"text-align: right;\">\n",
       "      <th></th>\n",
       "      <th>country</th>\n",
       "      <th>year</th>\n",
       "      <th>sex</th>\n",
       "      <th>age</th>\n",
       "      <th>suicides_no</th>\n",
       "      <th>population</th>\n",
       "      <th>suicides/100k pop</th>\n",
       "      <th>country-year</th>\n",
       "      <th>HDI for year</th>\n",
       "      <th>gdp_for_year ($)</th>\n",
       "      <th>gdp_per_capita ($)</th>\n",
       "      <th>generation</th>\n",
       "    </tr>\n",
       "  </thead>\n",
       "  <tbody>\n",
       "    <tr>\n",
       "      <th>0</th>\n",
       "      <td>Albania</td>\n",
       "      <td>1987</td>\n",
       "      <td>male</td>\n",
       "      <td>15-24 years</td>\n",
       "      <td>21</td>\n",
       "      <td>312900</td>\n",
       "      <td>6.71</td>\n",
       "      <td>Albania1987</td>\n",
       "      <td>NaN</td>\n",
       "      <td>2,156,624,900</td>\n",
       "      <td>796</td>\n",
       "      <td>Generation X</td>\n",
       "    </tr>\n",
       "    <tr>\n",
       "      <th>1</th>\n",
       "      <td>Albania</td>\n",
       "      <td>1987</td>\n",
       "      <td>male</td>\n",
       "      <td>35-54 years</td>\n",
       "      <td>16</td>\n",
       "      <td>308000</td>\n",
       "      <td>5.19</td>\n",
       "      <td>Albania1987</td>\n",
       "      <td>NaN</td>\n",
       "      <td>2,156,624,900</td>\n",
       "      <td>796</td>\n",
       "      <td>Silent</td>\n",
       "    </tr>\n",
       "    <tr>\n",
       "      <th>2</th>\n",
       "      <td>Albania</td>\n",
       "      <td>1987</td>\n",
       "      <td>female</td>\n",
       "      <td>15-24 years</td>\n",
       "      <td>14</td>\n",
       "      <td>289700</td>\n",
       "      <td>4.83</td>\n",
       "      <td>Albania1987</td>\n",
       "      <td>NaN</td>\n",
       "      <td>2,156,624,900</td>\n",
       "      <td>796</td>\n",
       "      <td>Generation X</td>\n",
       "    </tr>\n",
       "    <tr>\n",
       "      <th>3</th>\n",
       "      <td>Albania</td>\n",
       "      <td>1987</td>\n",
       "      <td>male</td>\n",
       "      <td>75+ years</td>\n",
       "      <td>1</td>\n",
       "      <td>21800</td>\n",
       "      <td>4.59</td>\n",
       "      <td>Albania1987</td>\n",
       "      <td>NaN</td>\n",
       "      <td>2,156,624,900</td>\n",
       "      <td>796</td>\n",
       "      <td>G.I. Generation</td>\n",
       "    </tr>\n",
       "    <tr>\n",
       "      <th>4</th>\n",
       "      <td>Albania</td>\n",
       "      <td>1987</td>\n",
       "      <td>male</td>\n",
       "      <td>25-34 years</td>\n",
       "      <td>9</td>\n",
       "      <td>274300</td>\n",
       "      <td>3.28</td>\n",
       "      <td>Albania1987</td>\n",
       "      <td>NaN</td>\n",
       "      <td>2,156,624,900</td>\n",
       "      <td>796</td>\n",
       "      <td>Boomers</td>\n",
       "    </tr>\n",
       "  </tbody>\n",
       "</table>\n",
       "</div>"
      ],
      "text/plain": [
       "   country  year     sex          age  suicides_no  population  \\\n",
       "0  Albania  1987    male  15-24 years           21      312900   \n",
       "1  Albania  1987    male  35-54 years           16      308000   \n",
       "2  Albania  1987  female  15-24 years           14      289700   \n",
       "3  Albania  1987    male    75+ years            1       21800   \n",
       "4  Albania  1987    male  25-34 years            9      274300   \n",
       "\n",
       "   suicides/100k pop country-year  HDI for year  gdp_for_year ($)   \\\n",
       "0               6.71  Albania1987           NaN      2,156,624,900   \n",
       "1               5.19  Albania1987           NaN      2,156,624,900   \n",
       "2               4.83  Albania1987           NaN      2,156,624,900   \n",
       "3               4.59  Albania1987           NaN      2,156,624,900   \n",
       "4               3.28  Albania1987           NaN      2,156,624,900   \n",
       "\n",
       "   gdp_per_capita ($)       generation  \n",
       "0                 796     Generation X  \n",
       "1                 796           Silent  \n",
       "2                 796     Generation X  \n",
       "3                 796  G.I. Generation  \n",
       "4                 796          Boomers  "
      ]
     },
     "execution_count": 3,
     "metadata": {},
     "output_type": "execute_result"
    }
   ],
   "source": [
    "# returning first five rows of the dataframe\n",
    "df.head()"
   ]
  },
  {
   "cell_type": "code",
   "execution_count": 4,
   "metadata": {},
   "outputs": [
    {
     "name": "stdout",
     "output_type": "stream",
     "text": [
      "<class 'pandas.core.frame.DataFrame'>\n",
      "RangeIndex: 27820 entries, 0 to 27819\n",
      "Data columns (total 12 columns):\n",
      "country               27820 non-null object\n",
      "year                  27820 non-null int64\n",
      "sex                   27820 non-null object\n",
      "age                   27820 non-null object\n",
      "suicides_no           27820 non-null int64\n",
      "population            27820 non-null int64\n",
      "suicides/100k pop     27820 non-null float64\n",
      "country-year          27820 non-null object\n",
      "HDI for year          8364 non-null float64\n",
      " gdp_for_year ($)     27820 non-null object\n",
      "gdp_per_capita ($)    27820 non-null int64\n",
      "generation            27820 non-null object\n",
      "dtypes: float64(2), int64(4), object(6)\n",
      "memory usage: 2.5+ MB\n"
     ]
    }
   ],
   "source": [
    "# display name of the colunms with their data types and whether they have missing value or not \n",
    "df.info()"
   ]
  },
  {
   "cell_type": "code",
   "execution_count": 5,
   "metadata": {},
   "outputs": [
    {
     "data": {
      "text/plain": [
       "(27820, 12)"
      ]
     },
     "execution_count": 5,
     "metadata": {},
     "output_type": "execute_result"
    }
   ],
   "source": [
    "# it returns the shape of the data frame in form of tuple that holds no. of rows followed by no.of columns\n",
    "df.shape"
   ]
  },
  {
   "cell_type": "code",
   "execution_count": 6,
   "metadata": {},
   "outputs": [
    {
     "data": {
      "text/plain": [
       "Index(['country', 'year', 'sex', 'age', 'suicides_no', 'population',\n",
       "       'suicides/100k pop', 'country-year', 'HDI for year',\n",
       "       ' gdp_for_year ($) ', 'gdp_per_capita ($)', 'generation'],\n",
       "      dtype='object')"
      ]
     },
     "execution_count": 6,
     "metadata": {},
     "output_type": "execute_result"
    }
   ],
   "source": [
    "# it returns the name of columns\n",
    "df.columns"
   ]
  },
  {
   "cell_type": "code",
   "execution_count": 7,
   "metadata": {},
   "outputs": [],
   "source": [
    "# converting the dtype of sex from object to category\n",
    "df['sex'] = df['sex'].astype('category')"
   ]
  },
  {
   "cell_type": "code",
   "execution_count": 8,
   "metadata": {},
   "outputs": [],
   "source": [
    "# renaming the column names\n",
    "df = df.rename(columns = {'suicides_no' : 'no_of_suicides', 'suicides/100k pop' : 'suicides_by_100k_pop', \n",
    "                     'HDI for year' : 'HDI_for_year', ' gdp_for_year ($) ' : 'gdp_for_year',\n",
    "                     'gdp_per_capita ($)' : 'gdp_per_capita'\n",
    "                    })"
   ]
  },
  {
   "cell_type": "code",
   "execution_count": 9,
   "metadata": {},
   "outputs": [],
   "source": [
    "# converting the dtype of gdp_for_year from object to int\n",
    "df['gdp_for_year'] = df['gdp_for_year'].str.replace(',','')\n",
    "df['gdp_for_year'] = pd.to_numeric(df['gdp_for_year'])"
   ]
  },
  {
   "cell_type": "code",
   "execution_count": 10,
   "metadata": {},
   "outputs": [
    {
     "name": "stdout",
     "output_type": "stream",
     "text": [
      "<class 'pandas.core.frame.DataFrame'>\n",
      "RangeIndex: 27820 entries, 0 to 27819\n",
      "Data columns (total 12 columns):\n",
      "country                 27820 non-null object\n",
      "year                    27820 non-null int64\n",
      "sex                     27820 non-null category\n",
      "age                     27820 non-null object\n",
      "no_of_suicides          27820 non-null int64\n",
      "population              27820 non-null int64\n",
      "suicides_by_100k_pop    27820 non-null float64\n",
      "country-year            27820 non-null object\n",
      "HDI_for_year            8364 non-null float64\n",
      "gdp_for_year            27820 non-null int64\n",
      "gdp_per_capita          27820 non-null int64\n",
      "generation              27820 non-null object\n",
      "dtypes: category(1), float64(2), int64(5), object(4)\n",
      "memory usage: 2.4+ MB\n"
     ]
    }
   ],
   "source": [
    "df.info()"
   ]
  },
  {
   "cell_type": "code",
   "execution_count": 11,
   "metadata": {},
   "outputs": [],
   "source": [
    "# filling the NAN values of HDI_for_year with 0\n",
    "df['HDI_for_year'] = df['HDI_for_year'].fillna(0)"
   ]
  },
  {
   "cell_type": "code",
   "execution_count": 12,
   "metadata": {},
   "outputs": [
    {
     "data": {
      "text/plain": [
       "array(['Albania', 'Antigua and Barbuda', 'Argentina', 'Armenia', 'Aruba',\n",
       "       'Australia', 'Austria', 'Azerbaijan', 'Bahamas', 'Bahrain',\n",
       "       'Barbados', 'Belarus', 'Belgium', 'Belize',\n",
       "       'Bosnia and Herzegovina', 'Brazil', 'Bulgaria', 'Cabo Verde',\n",
       "       'Canada', 'Chile', 'Colombia', 'Costa Rica', 'Croatia', 'Cuba',\n",
       "       'Cyprus', 'Czech Republic', 'Denmark', 'Dominica', 'Ecuador',\n",
       "       'El Salvador', 'Estonia', 'Fiji', 'Finland', 'France', 'Georgia',\n",
       "       'Germany', 'Greece', 'Grenada', 'Guatemala', 'Guyana', 'Hungary',\n",
       "       'Iceland', 'Ireland', 'Israel', 'Italy', 'Jamaica', 'Japan',\n",
       "       'Kazakhstan', 'Kiribati', 'Kuwait', 'Kyrgyzstan', 'Latvia',\n",
       "       'Lithuania', 'Luxembourg', 'Macau', 'Maldives', 'Malta',\n",
       "       'Mauritius', 'Mexico', 'Mongolia', 'Montenegro', 'Netherlands',\n",
       "       'New Zealand', 'Nicaragua', 'Norway', 'Oman', 'Panama', 'Paraguay',\n",
       "       'Philippines', 'Poland', 'Portugal', 'Puerto Rico', 'Qatar',\n",
       "       'Republic of Korea', 'Romania', 'Russian Federation',\n",
       "       'Saint Kitts and Nevis', 'Saint Lucia',\n",
       "       'Saint Vincent and Grenadines', 'San Marino', 'Serbia',\n",
       "       'Seychelles', 'Singapore', 'Slovakia', 'Slovenia', 'South Africa',\n",
       "       'Spain', 'Sri Lanka', 'Suriname', 'Sweden', 'Switzerland',\n",
       "       'Thailand', 'Trinidad and Tobago', 'Turkey', 'Turkmenistan',\n",
       "       'Ukraine', 'United Arab Emirates', 'United Kingdom',\n",
       "       'United States', 'Uruguay', 'Uzbekistan'], dtype=object)"
      ]
     },
     "execution_count": 12,
     "metadata": {},
     "output_type": "execute_result"
    }
   ],
   "source": [
    "# It returns the distinct value of countries \n",
    "df.country.unique()"
   ]
  },
  {
   "cell_type": "code",
   "execution_count": 13,
   "metadata": {},
   "outputs": [
    {
     "data": {
      "text/plain": [
       "array(['15-24 years', '35-54 years', '75+ years', '25-34 years',\n",
       "       '55-74 years', '5-14 years'], dtype=object)"
      ]
     },
     "execution_count": 13,
     "metadata": {},
     "output_type": "execute_result"
    }
   ],
   "source": [
    "df.age.unique()"
   ]
  },
  {
   "cell_type": "code",
   "execution_count": 14,
   "metadata": {},
   "outputs": [],
   "source": [
    "# droping the country-year column because the dataframe already having country and year column\n",
    "df = df.drop(['country-year'],axis=1)"
   ]
  },
  {
   "cell_type": "code",
   "execution_count": 15,
   "metadata": {},
   "outputs": [
    {
     "data": {
      "text/plain": [
       "array(['Generation X', 'Silent', 'G.I. Generation', 'Boomers',\n",
       "       'Millenials', 'Generation Z'], dtype=object)"
      ]
     },
     "execution_count": 15,
     "metadata": {},
     "output_type": "execute_result"
    }
   ],
   "source": [
    "df.generation.unique()"
   ]
  },
  {
   "cell_type": "code",
   "execution_count": 16,
   "metadata": {},
   "outputs": [
    {
     "data": {
      "text/plain": [
       "sex\n",
       "female    112.114306\n",
       "male      373.034508\n",
       "Name: no_of_suicides, dtype: float64"
      ]
     },
     "execution_count": 16,
     "metadata": {},
     "output_type": "execute_result"
    }
   ],
   "source": [
    "# grouping by sex column and selecting the no_of_suicide column and calculating mean \n",
    "# by seeing this we can analyse that male has highest no. of suicide\n",
    "df.groupby('sex')['no_of_suicides'].mean()"
   ]
  },
  {
   "cell_type": "code",
   "execution_count": 17,
   "metadata": {},
   "outputs": [
    {
     "data": {
      "text/plain": [
       "age\n",
       "15-24 years    174.179664\n",
       "25-34 years    242.118053\n",
       "35-54 years    528.250969\n",
       "5-14 years      11.337093\n",
       "55-74 years    357.269065\n",
       "75+ years      140.697544\n",
       "Name: no_of_suicides, dtype: float64"
      ]
     },
     "execution_count": 17,
     "metadata": {},
     "output_type": "execute_result"
    }
   ],
   "source": [
    "# grouping by age column and selecting the no_of_suicide column and calculating mean \n",
    "# by seeing this we can analyse that 35-54 years age group  has highest no. of suicide\n",
    "df.groupby('age')['no_of_suicides'].mean()"
   ]
  },
  {
   "cell_type": "code",
   "execution_count": 18,
   "metadata": {
    "scrolled": true
   },
   "outputs": [
    {
     "data": {
      "text/plain": [
       "age          generation     \n",
       "15-24 years  Generation X        394312\n",
       "             Millenials          414230\n",
       "25-34 years  Boomers             304163\n",
       "             Generation X        640551\n",
       "             Millenials          179198\n",
       "35-54 years  Boomers            1689019\n",
       "             Generation X        491614\n",
       "             Silent              271508\n",
       "5-14 years   Generation X          6327\n",
       "             Generation Z         15906\n",
       "             Millenials           30031\n",
       "55-74 years  Boomers             291316\n",
       "             G.I. Generation     208608\n",
       "             Silent             1158519\n",
       "75+ years    G.I. Generation     301401\n",
       "             Silent              351717\n",
       "Name: no_of_suicides, dtype: int64"
      ]
     },
     "execution_count": 18,
     "metadata": {},
     "output_type": "execute_result"
    }
   ],
   "source": [
    "# no_of_suicide by age and generation\n",
    "# grouping by age and generation columns and selecting no_of_suicide column and calculating sum, to analyse how age and \n",
    "# generation are related to each other and calculating the no. of suicide related to both of the columns.\n",
    "df.groupby(['age','generation'])['no_of_suicides'].sum()"
   ]
  },
  {
   "cell_type": "code",
   "execution_count": 19,
   "metadata": {},
   "outputs": [
    {
     "data": {
      "text/plain": [
       "sex     generation     \n",
       "female  Boomers             460968\n",
       "        G.I. Generation     176653\n",
       "        Generation X        309839\n",
       "        Generation Z          6141\n",
       "        Millenials          133620\n",
       "        Silent              472289\n",
       "male    Boomers            1823530\n",
       "        G.I. Generation     333356\n",
       "        Generation X       1222965\n",
       "        Generation Z          9765\n",
       "        Millenials          489839\n",
       "        Silent             1309455\n",
       "Name: no_of_suicides, dtype: int64"
      ]
     },
     "execution_count": 19,
     "metadata": {},
     "output_type": "execute_result"
    }
   ],
   "source": [
    "# no_of_suicide by sex and generation\n",
    "# grouping by sex and generation columns and selecting no_of_suicides column and calculating sum \n",
    "# by seeing this, we can analyse that female has highest no. of suicide in Slient generation and male has highest no. of \n",
    "# suicide in Boomers generation.\n",
    "df.groupby(['sex','generation'])['no_of_suicides'].sum()"
   ]
  },
  {
   "cell_type": "code",
   "execution_count": 20,
   "metadata": {},
   "outputs": [
    {
     "data": {
      "text/plain": [
       "country\n",
       "Russian Federation    3733.771605\n",
       "United States         2779.604839\n",
       "Japan                 2169.091398\n",
       "Ukraine                952.232143\n",
       "Germany                933.532051\n",
       "Name: no_of_suicides, dtype: float64"
      ]
     },
     "execution_count": 20,
     "metadata": {},
     "output_type": "execute_result"
    }
   ],
   "source": [
    "# country wise no. of suicides\n",
    "# by seeing this, we can analyse overall Russian Federation country has highest no. of suicide rate.\n",
    "highest_no_of_suicide = df.groupby('country')['no_of_suicides'].mean()\n",
    "highest_no_of_suicide = highest_no_of_suicide.sort_values(ascending = False)\n",
    "highest_no_of_suicide.head()\n"
   ]
  },
  {
   "cell_type": "code",
   "execution_count": 21,
   "metadata": {},
   "outputs": [
    {
     "name": "stdout",
     "output_type": "stream",
     "text": [
      "country\n",
      "United States     2453.833333\n",
      "Japan             1938.083333\n",
      "France            1041.750000\n",
      "Sri Lanka          472.333333\n",
      "United Kingdom     425.416667\n",
      "Name: no_of_suicides, dtype: float64\n",
      "\n",
      "country\n",
      "Saint Vincent and Grenadines    0.166667\n",
      "Grenada                         0.083333\n",
      "Bahamas                         0.083333\n",
      "Dominica                        0.000000\n",
      "Antigua and Barbuda             0.000000\n",
      "Name: no_of_suicides, dtype: float64\n"
     ]
    }
   ],
   "source": [
    "# country wise no. of suicide in the year of 1985 \n",
    "# it shows that in the year of 1985, United States has highest no of suicide.\n",
    "country_highest_suicide_1985 = df[(df['year'] == 1985)]\n",
    "country_highest_suicide_1985 = country_highest_suicide_1985.groupby('country')['no_of_suicides'].mean()\n",
    "country_highest_suicide_1985 = country_highest_suicide_1985.sort_values(ascending = False)\n",
    "print(country_highest_suicide_1985.head())\n",
    "print()\n",
    "print(country_highest_suicide_1985.tail())"
   ]
  },
  {
   "cell_type": "code",
   "execution_count": 22,
   "metadata": {
    "scrolled": true
   },
   "outputs": [
    {
     "name": "stdout",
     "output_type": "stream",
     "text": [
      "country\n",
      "Thailand          411.7\n",
      "Romania           195.3\n",
      "Netherlands       188.6\n",
      "Hungary           176.1\n",
      "Czech Republic    131.8\n",
      "Name: no_of_suicides, dtype: float64\n",
      "\n",
      "country\n",
      "Qatar      6.8\n",
      "Armenia    6.7\n",
      "Iceland    4.0\n",
      "Cyprus     3.6\n",
      "Grenada    0.0\n",
      "Name: no_of_suicides, dtype: float64\n"
     ]
    }
   ],
   "source": [
    "# country wise no. of suicide in the year of 2016 \n",
    "# it shows that in the year of 2016, Thailand has highest no of suicide.\n",
    "country_highest_suicide_2016 = df[(df['year'] == 2016)]\n",
    "country_highest_suicide_2016 = country_highest_suicide_2016.groupby('country')['no_of_suicides'].mean()\n",
    "country_highest_suicide_2016 = country_highest_suicide_2016.sort_values(ascending = False)\n",
    "print(country_highest_suicide_2016.head())\n",
    "print()\n",
    "print(country_highest_suicide_2016.tail())"
   ]
  },
  {
   "cell_type": "code",
   "execution_count": 23,
   "metadata": {},
   "outputs": [
    {
     "name": "stdout",
     "output_type": "stream",
     "text": [
      "year\n",
      "1999    256119\n",
      "2002    256095\n",
      "2003    256079\n",
      "2000    255832\n",
      "2001    250652\n",
      "Name: no_of_suicides, dtype: int64\n",
      "\n",
      "year\n",
      "1987    126842\n",
      "1988    121026\n",
      "1986    120670\n",
      "1985    116063\n",
      "2016     15603\n",
      "Name: no_of_suicides, dtype: int64\n"
     ]
    }
   ],
   "source": [
    "# year wise no. of suicide\n",
    "# It shows, in the year of 1999, the no. of suicide was highest and in the year of 2016, the no. of suicide was lowest. \n",
    "year_wise_no_of_suicide = df.groupby('year')['no_of_suicides'].sum()\n",
    "year_wise_no_of_suicide = year_wise_no_of_suicide.sort_values(ascending=False)\n",
    "print(year_wise_no_of_suicide.head())\n",
    "print()\n",
    "print(year_wise_no_of_suicide.tail())"
   ]
  },
  {
   "cell_type": "markdown",
   "metadata": {},
   "source": [
    "##  To Be Continued....."
   ]
  },
  {
   "cell_type": "code",
   "execution_count": null,
   "metadata": {},
   "outputs": [],
   "source": []
  },
  {
   "cell_type": "code",
   "execution_count": null,
   "metadata": {},
   "outputs": [],
   "source": []
  },
  {
   "cell_type": "code",
   "execution_count": null,
   "metadata": {},
   "outputs": [],
   "source": []
  },
  {
   "cell_type": "code",
   "execution_count": null,
   "metadata": {},
   "outputs": [],
   "source": []
  },
  {
   "cell_type": "code",
   "execution_count": null,
   "metadata": {},
   "outputs": [],
   "source": []
  },
  {
   "cell_type": "code",
   "execution_count": null,
   "metadata": {},
   "outputs": [],
   "source": []
  }
 ],
 "metadata": {
  "kernelspec": {
   "display_name": "Python 3",
   "language": "python",
   "name": "python3"
  },
  "language_info": {
   "codemirror_mode": {
    "name": "ipython",
    "version": 3
   },
   "file_extension": ".py",
   "mimetype": "text/x-python",
   "name": "python",
   "nbconvert_exporter": "python",
   "pygments_lexer": "ipython3",
   "version": "3.7.3"
  }
 },
 "nbformat": 4,
 "nbformat_minor": 2
}
